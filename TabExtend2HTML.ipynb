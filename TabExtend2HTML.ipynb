{
 "cells": [
  {
   "cell_type": "code",
   "execution_count": 45,
   "metadata": {},
   "outputs": [],
   "source": [
    "import pandas as pd\n",
    "import time\n",
    "from datetime import datetime\n",
    "import re\n",
    "from pathlib import Path\n"
   ]
  },
  {
   "cell_type": "code",
   "execution_count": 46,
   "metadata": {},
   "outputs": [],
   "source": [
    "def convert_time(t):\n",
    "    dt =  datetime.strptime(\" \".join(t.split()[1:5]), \"%b %d %Y %H:%M:%S\")\n",
    "    return round(time.mktime(dt.timetuple()))\n"
   ]
  },
  {
   "cell_type": "code",
   "execution_count": 47,
   "metadata": {},
   "outputs": [],
   "source": [
    "def save_file(bm, filename=\"bookmarks.html\"):\n",
    "    with open(filename, \"w\") as f:\n",
    "        f.write(bm)\n"
   ]
  },
  {
   "cell_type": "code",
   "execution_count": 48,
   "metadata": {},
   "outputs": [],
   "source": [
    "def process_bookmark(bookmark:dict) -> str:\n",
    "    _bm = \"\"\n",
    "    try: icon = bookmark['favIcon']\n",
    "    except KeyError: icon = \"\"\n",
    "    btitle = bookmark['title']\n",
    "    btitle = re.sub(\"http[s]?://.*\", \"\", btitle)\n",
    "    # _bm += f\"\"\"<DT><A HREF=\"{bookmark['url']}\" ADD_DATE=\"{convert_time(bookmark['dateCreated'])}\" ICON=\"{icon}\">{btitle}</A>\"\"\"\n",
    "    _bm += f\"\"\"<DT><A HREF=\"{bookmark['url']}\" ADD_DATE=\"{convert_time(bookmark['dateCreated'])}\">{btitle}</A>\\n\"\"\"\n",
    "\n",
    "    return _bm"
   ]
  },
  {
   "cell_type": "code",
   "execution_count": 49,
   "metadata": {},
   "outputs": [],
   "source": [
    "def process_stack(stack: list):\n",
    "    _bm = \"\"\n",
    "    for bookmark in stack:\n",
    "        _bm += process_bookmark(bookmark)\n",
    "\n",
    "    return _bm"
   ]
  },
  {
   "cell_type": "code",
   "execution_count": 50,
   "metadata": {},
   "outputs": [],
   "source": [
    "def process_tabs(tabs: list) -> str:\n",
    "    # title = tabs\n",
    "    _bm = \"\"\n",
    "    for tab in tabs:\n",
    "        if tab == []: continue\n",
    "        try:\n",
    "            isStacked = bool(tab['isStacked'])\n",
    "        except KeyError:\n",
    "            isStacked = False\n",
    "            _bm += process_bookmark(tab)\n",
    "            # TODO: process other types of entries. \n",
    "\n",
    "        if isStacked:\n",
    "            # print(tab)\n",
    "            try: \n",
    "                tab_title = \"stack: \" + tab['title']\n",
    "            except KeyError:\n",
    "                tab_title = \"stack: \" + \"Untitled\"\n",
    "                \n",
    "            _bm += f\"\"\"<DT><H3 ADD_DATE=\"{convert_time(tab['dateCreated'])}\" >{tab_title}</H3>\\n\"\"\"\n",
    "            # _bm += f\"\"\"<DT><H3>{tab_title}</H3>\"\"\"\n",
    "\n",
    "            _bm += \"<DL><p>\\n\"\n",
    "            _bm += process_stack(tab['stackedItems'])\n",
    "            _bm += \"</DL><p>\\n\"\n",
    "\n",
    "            \n",
    "        \n",
    "    return _bm\n"
   ]
  },
  {
   "cell_type": "code",
   "execution_count": 51,
   "metadata": {},
   "outputs": [],
   "source": [
    "def process_df(df):\n",
    "    bm = f\"\"\"\n",
    "<!DOCTYPE NETSCAPE-Bookmark-file-1>\n",
    "<META HTTP-EQUIV=\"Content-Type\" CONTENT=\"text/html; charset=UTF-8\">\n",
    "<TITLE>TabExtend Bookmarks</TITLE>\n",
    "<H1>TabExtend Bookmarks</H1>\n",
    "<DL><p>\n",
    "\"\"\"\n",
    "\n",
    "    for cat in df['categoryID'].unique():\n",
    "        cat_df = df[df['categoryID'] == cat]\n",
    "\n",
    "        # add the category ID as a \"title\"\n",
    "        bm += f\"\"\"<DT><H3>CATEGORY ID: {cat}</H3>\\n\"\"\"\n",
    "        bm += \"<DL><p>\\n\"\n",
    "        \n",
    "        for index, row in cat_df.iterrows():\n",
    "            rtitle = row['title'] #  [\"TEMP Category ID\" + row['categoryID']\n",
    "            rlast_added = convert_time(row['lastAdded'])\n",
    "            \n",
    "            # add title of table\n",
    "            bm += f\"\"\"<DT><H3 ADD_DATE=\"{rlast_added}\">{rtitle}</H3>\\n\"\"\"\n",
    "            bm += \"<DL><p>\\n\"\n",
    "            \n",
    "            # print(tabs)\n",
    "            bm += process_tabs(row['tabs'])\n",
    "            bm += \"</DL><p>\\n\"\n",
    "        \n",
    "        bm += \"</DL><p>\\n\"\n",
    "    bm += \"</DL><p>\\n</DL><p>\\n\"\n",
    "        \n",
    "    return bm\n",
    "            "
   ]
  },
  {
   "cell_type": "code",
   "execution_count": 58,
   "metadata": {},
   "outputs": [],
   "source": [
    "# read from json into a df, use file name: \"tabExtend_data_20230328.json\"\n",
    "fname = \"tabExtend_data.json\"\n",
    "working_dir = Path()  # current directory\n",
    "fpath = working_dir / fname\n",
    "\n",
    "df = pd.read_json(fpath)\n",
    "df = df.sort_values(by=['categoryID'])\n",
    "\n",
    "bm = process_df(df)\n",
    "save_file(bm)"
   ]
  },
  {
   "cell_type": "code",
   "execution_count": null,
   "metadata": {},
   "outputs": [],
   "source": []
  }
 ],
 "metadata": {
  "kernelspec": {
   "display_name": "win_learn",
   "language": "python",
   "name": "python3"
  },
  "language_info": {
   "codemirror_mode": {
    "name": "ipython",
    "version": 3
   },
   "file_extension": ".py",
   "mimetype": "text/x-python",
   "name": "python",
   "nbconvert_exporter": "python",
   "pygments_lexer": "ipython3",
   "version": "3.10.9"
  },
  "orig_nbformat": 4
 },
 "nbformat": 4,
 "nbformat_minor": 2
}
